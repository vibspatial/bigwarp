{
 "cells": [
  {
   "cell_type": "markdown",
   "metadata": {},
   "source": [
    "# Bigwarp .zarr to OME TIFF"
   ]
  },
  {
   "cell_type": "markdown",
   "metadata": {},
   "source": [
    "## Setting up a conda environment\n",
    "\n",
    "```bash\n",
    "conda env create -f environment.yml\n",
    "conda activate zarr-ometiff\n",
    "```"
   ]
  },
  {
   "cell_type": "markdown",
   "metadata": {},
   "source": [
    "## Open Bigwarp .zarr"
   ]
  },
  {
   "cell_type": "code",
   "execution_count": 1,
   "metadata": {},
   "outputs": [],
   "source": [
    "from pathlib import Path\n",
    "import zarr\n",
    "from typing import Tuple"
   ]
  },
  {
   "cell_type": "code",
   "execution_count": 2,
   "metadata": {},
   "outputs": [],
   "source": [
    "zarr_path = r'D:\\Frank\\BigWarp-Troubleshooting\\warped.zarr'\n",
    "assert Path.exists(Path(zarr_path))"
   ]
  },
  {
   "cell_type": "code",
   "execution_count": 3,
   "metadata": {},
   "outputs": [],
   "source": [
    "root = zarr.open(zarr_path, 'r')"
   ]
  },
  {
   "cell_type": "code",
   "execution_count": 4,
   "metadata": {},
   "outputs": [
    {
     "data": {
      "application/vnd.jupyter.widget-view+json": {
       "model_id": "792d4f9756bc41cdb40739129d765ac4",
       "version_major": 2,
       "version_minor": 0
      },
      "text/plain": [
       "Tree(nodes=(Node(disabled=True, name='/', nodes=(Node(disabled=True, name='warped', nodes=(Node(disabled=True,…"
      ]
     },
     "execution_count": 4,
     "metadata": {},
     "output_type": "execute_result"
    }
   ],
   "source": [
    "root.tree()"
   ]
  },
  {
   "cell_type": "code",
   "execution_count": 5,
   "metadata": {},
   "outputs": [
    {
     "data": {
      "text/plain": [
       "<zarr.hierarchy.Group '/warped' read-only>"
      ]
     },
     "execution_count": 5,
     "metadata": {},
     "output_type": "execute_result"
    }
   ],
   "source": [
    "# Get the name of the first group in the zarr\n",
    "# (in the case of bigwarp zarr there is only one)\n",
    "group_key = list(root)[0]\n",
    "group = root[group_key]\n",
    "group"
   ]
  },
  {
   "cell_type": "code",
   "execution_count": 6,
   "metadata": {},
   "outputs": [
    {
     "data": {
      "text/plain": [
       "['/warped/cycle2.ome.tif-DAPI',\n",
       " '/warped/cycle2.ome.tif-Opal_520',\n",
       " '/warped/cycle2.ome.tif-Opal_570',\n",
       " '/warped/cycle2.ome.tif-Opal_690',\n",
       " '/warped/cycle2.ome.tif-Opal_780',\n",
       " '/warped/cycle2.ome.tif-Sample_AF']"
      ]
     },
     "execution_count": 6,
     "metadata": {},
     "output_type": "execute_result"
    }
   ],
   "source": [
    "channel_group_names = [item[1].name for item in group.items()]\n",
    "channel_group_names"
   ]
  },
  {
   "cell_type": "code",
   "execution_count": 7,
   "metadata": {},
   "outputs": [
    {
     "data": {
      "text/plain": [
       "['DAPI', 'Opal_520', 'Opal_570', 'Opal_690', 'Opal_780', 'Sample_AF']"
      ]
     },
     "execution_count": 7,
     "metadata": {},
     "output_type": "execute_result"
    }
   ],
   "source": [
    "# The group names look like this: '/warped/cycle2.ome.tif-DAPI'\n",
    "# we extract the channel name as the part after the '-'.\n",
    "channel_names = [name.split('-')[1] for name in channel_group_names]\n",
    "channel_names"
   ]
  },
  {
   "cell_type": "code",
   "execution_count": 8,
   "metadata": {},
   "outputs": [],
   "source": [
    "def _zarr_image_get_pixelsize_um(root, group_name) -> Tuple[float, float]:\n",
    "    # As an example a transform attribute for an image channel in a Bigwarp zarr:\n",
    "    # {'axes': ['y', 'x'], 'scale': [0.0002495152876362007, 0.0002495152876362007, 0.001], 'translate': [0.0, 0.0, 0.0], 'units': ['mm', 'mm']}\n",
    "    # It is inconsistent because sometimes it specifies three dimensions, and sometimes two.\n",
    "    transform = root[group_name].attrs['transform']\n",
    "    print(f'Image transform {transform}')\n",
    "\n",
    "    assert transform['axes'] == ['y', 'x']\n",
    "    assert transform['translate'] == [0.0, 0.0, 0.0]\n",
    "    assert transform['units'] == ['mm', 'mm']\n",
    "\n",
    "    scale = transform['scale']\n",
    "    assert len(scale) == 3  # the 3rd dimensions is probably a default z-plane distance of 1 micron\n",
    "\n",
    "    pixel_size_y_um = scale[0] * 1000.0 \n",
    "    pixel_size_x_um = scale[1] * 1000.0\n",
    "\n",
    "    return (pixel_size_y_um, pixel_size_x_um)"
   ]
  },
  {
   "cell_type": "code",
   "execution_count": 9,
   "metadata": {},
   "outputs": [
    {
     "name": "stdout",
     "output_type": "stream",
     "text": [
      "Image transform {'axes': ['y', 'x'], 'scale': [0.0002495152876362007, 0.0002495152876362007, 0.001], 'translate': [0.0, 0.0, 0.0], 'units': ['mm', 'mm']}\n"
     ]
    }
   ],
   "source": [
    "pixel_size_um: Tuple[float, float] = _zarr_image_get_pixelsize_um(root, '/warped/cycle2.ome.tif-DAPI')"
   ]
  },
  {
   "cell_type": "markdown",
   "metadata": {},
   "source": [
    "## Visual exploration of the zarr"
   ]
  },
  {
   "cell_type": "code",
   "execution_count": 10,
   "metadata": {},
   "outputs": [],
   "source": [
    "import matplotlib.pyplot as plt"
   ]
  },
  {
   "cell_type": "code",
   "execution_count": 11,
   "metadata": {},
   "outputs": [
    {
     "data": {
      "text/plain": [
       "<zarr.core.Array '/warped/cycle2.ome.tif-DAPI' (63360, 69120) uint8 read-only>"
      ]
     },
     "execution_count": 11,
     "metadata": {},
     "output_type": "execute_result"
    }
   ],
   "source": [
    "# Read the first channel as an example\n",
    "img = root[channel_group_names[0]]\n",
    "img"
   ]
  },
  {
   "cell_type": "code",
   "execution_count": 12,
   "metadata": {},
   "outputs": [
    {
     "data": {
      "text/plain": [
       "{'axes': ['y', 'x'],\n",
       " 'scale': [0.0002495152876362007, 0.0002495152876362007, 0.001],\n",
       " 'translate': [0.0, 0.0, 0.0],\n",
       " 'units': ['mm', 'mm']}"
      ]
     },
     "execution_count": 12,
     "metadata": {},
     "output_type": "execute_result"
    }
   ],
   "source": [
    "# The physical pixel size can be recovered from the zarr attributes dictionary\n",
    "# associated with the zarr group holding the (single channel) image.\n",
    "img.attrs['transform']"
   ]
  },
  {
   "cell_type": "code",
   "execution_count": 13,
   "metadata": {},
   "outputs": [
    {
     "data": {
      "text/plain": [
       "<matplotlib.image.AxesImage at 0x1d2808dce50>"
      ]
     },
     "execution_count": 13,
     "metadata": {},
     "output_type": "execute_result"
    },
    {
     "data": {
      "image/png": "[encoded data removed]",
      "text/plain": [
       "<Figure size 640x480 with 1 Axes>"
      ]
     },
     "metadata": {},
     "output_type": "display_data"
    }
   ],
   "source": [
    "plt.imshow(img[::4,::4])"
   ]
  },
  {
   "cell_type": "markdown",
   "metadata": {},
   "source": [
    "## Read full image stack"
   ]
  },
  {
   "cell_type": "code",
   "execution_count": 14,
   "metadata": {},
   "outputs": [],
   "source": [
    "import dask.array as da"
   ]
  },
  {
   "cell_type": "code",
   "execution_count": 15,
   "metadata": {},
   "outputs": [
    {
     "data": {
      "text/plain": [
       "[dask.array<array, shape=(63360, 69120), dtype=uint8, chunksize=(11264, 11264), chunktype=numpy.ndarray>,\n",
       " dask.array<array, shape=(63360, 69120), dtype=uint8, chunksize=(11264, 11264), chunktype=numpy.ndarray>,\n",
       " dask.array<array, shape=(63360, 69120), dtype=uint8, chunksize=(11264, 11264), chunktype=numpy.ndarray>,\n",
       " dask.array<array, shape=(63360, 69120), dtype=uint8, chunksize=(11264, 11264), chunktype=numpy.ndarray>,\n",
       " dask.array<array, shape=(63360, 69120), dtype=uint8, chunksize=(11264, 11264), chunktype=numpy.ndarray>,\n",
       " dask.array<array, shape=(63360, 69120), dtype=uint8, chunksize=(11264, 11264), chunktype=numpy.ndarray>]"
      ]
     },
     "execution_count": 15,
     "metadata": {},
     "output_type": "execute_result"
    }
   ],
   "source": [
    "das = [da.array(root[channel_group_name])\n",
    "       for channel_group_name\n",
    "       in channel_group_names]\n",
    "das"
   ]
  },
  {
   "cell_type": "code",
   "execution_count": 16,
   "metadata": {},
   "outputs": [
    {
     "data": {
      "text/html": [
       "<table>\n",
       "    <tr>\n",
       "        <td>\n",
       "            <table style=\"border-collapse: collapse;\">\n",
       "                <thead>\n",
       "                    <tr>\n",
       "                        <td> </td>\n",
       "                        <th> Array </th>\n",
       "                        <th> Chunk </th>\n",
       "                    </tr>\n",
       "                </thead>\n",
       "                <tbody>\n",
       "                    \n",
       "                    <tr>\n",
       "                        <th> Bytes </th>\n",
       "                        <td> 24.47 GiB </td>\n",
       "                        <td> 121.00 MiB </td>\n",
       "                    </tr>\n",
       "                    \n",
       "                    <tr>\n",
       "                        <th> Shape </th>\n",
       "                        <td> (6, 63360, 69120) </td>\n",
       "                        <td> (1, 11264, 11264) </td>\n",
       "                    </tr>\n",
       "                    <tr>\n",
       "                        <th> Dask graph </th>\n",
       "                        <td colspan=\"2\"> 252 chunks in 13 graph layers </td>\n",
       "                    </tr>\n",
       "                    <tr>\n",
       "                        <th> Data type </th>\n",
       "                        <td colspan=\"2\"> uint8 numpy.ndarray </td>\n",
       "                    </tr>\n",
       "                </tbody>\n",
       "            </table>\n",
       "        </td>\n",
       "        <td>\n",
       "        <svg width=\"194\" height=\"174\" style=\"stroke:rgb(0,0,0);stroke-width:1\" >\n",
       "\n",
       "  <!-- Horizontal lines -->\n",
       "  <line x1=\"10\" y1=\"0\" x2=\"24\" y2=\"14\" style=\"stroke-width:2\" />\n",
       "  <line x1=\"10\" y1=\"19\" x2=\"24\" y2=\"34\" />\n",
       "  <line x1=\"10\" y1=\"39\" x2=\"24\" y2=\"54\" />\n",
       "  <line x1=\"10\" y1=\"58\" x2=\"24\" y2=\"73\" />\n",
       "  <line x1=\"10\" y1=\"78\" x2=\"24\" y2=\"93\" />\n",
       "  <line x1=\"10\" y1=\"97\" x2=\"24\" y2=\"112\" />\n",
       "  <line x1=\"10\" y1=\"110\" x2=\"24\" y2=\"124\" style=\"stroke-width:2\" />\n",
       "\n",
       "  <!-- Vertical lines -->\n",
       "  <line x1=\"10\" y1=\"0\" x2=\"10\" y2=\"110\" style=\"stroke-width:2\" />\n",
       "  <line x1=\"12\" y1=\"2\" x2=\"12\" y2=\"112\" />\n",
       "  <line x1=\"14\" y1=\"4\" x2=\"14\" y2=\"114\" />\n",
       "  <line x1=\"17\" y1=\"7\" x2=\"17\" y2=\"117\" />\n",
       "  <line x1=\"19\" y1=\"9\" x2=\"19\" y2=\"119\" />\n",
       "  <line x1=\"22\" y1=\"12\" x2=\"22\" y2=\"122\" />\n",
       "  <line x1=\"24\" y1=\"14\" x2=\"24\" y2=\"124\" style=\"stroke-width:2\" />\n",
       "\n",
       "  <!-- Colored Rectangle -->\n",
       "  <polygon points=\"10.0,0.0 24.9485979497544,14.948597949754403 24.9485979497544,124.94859794975442 10.0,110.00000000000001\" style=\"fill:#ECB172A0;stroke-width:0\"/>\n",
       "\n",
       "  <!-- Horizontal lines -->\n",
       "  <line x1=\"10\" y1=\"0\" x2=\"130\" y2=\"0\" style=\"stroke-width:2\" />\n",
       "  <line x1=\"12\" y1=\"2\" x2=\"132\" y2=\"2\" />\n",
       "  <line x1=\"14\" y1=\"4\" x2=\"134\" y2=\"4\" />\n",
       "  <line x1=\"17\" y1=\"7\" x2=\"137\" y2=\"7\" />\n",
       "  <line x1=\"19\" y1=\"9\" x2=\"139\" y2=\"9\" />\n",
       "  <line x1=\"22\" y1=\"12\" x2=\"142\" y2=\"12\" />\n",
       "  <line x1=\"24\" y1=\"14\" x2=\"144\" y2=\"14\" style=\"stroke-width:2\" />\n",
       "\n",
       "  <!-- Vertical lines -->\n",
       "  <line x1=\"10\" y1=\"0\" x2=\"24\" y2=\"14\" style=\"stroke-width:2\" />\n",
       "  <line x1=\"29\" y1=\"0\" x2=\"44\" y2=\"14\" />\n",
       "  <line x1=\"49\" y1=\"0\" x2=\"64\" y2=\"14\" />\n",
       "  <line x1=\"68\" y1=\"0\" x2=\"83\" y2=\"14\" />\n",
       "  <line x1=\"88\" y1=\"0\" x2=\"103\" y2=\"14\" />\n",
       "  <line x1=\"107\" y1=\"0\" x2=\"122\" y2=\"14\" />\n",
       "  <line x1=\"127\" y1=\"0\" x2=\"142\" y2=\"14\" />\n",
       "  <line x1=\"130\" y1=\"0\" x2=\"144\" y2=\"14\" style=\"stroke-width:2\" />\n",
       "\n",
       "  <!-- Colored Rectangle -->\n",
       "  <polygon points=\"10.0,0.0 130.0,0.0 144.9485979497544,14.948597949754403 24.9485979497544,14.948597949754403\" style=\"fill:#ECB172A0;stroke-width:0\"/>\n",
       "\n",
       "  <!-- Horizontal lines -->\n",
       "  <line x1=\"24\" y1=\"14\" x2=\"144\" y2=\"14\" style=\"stroke-width:2\" />\n",
       "  <line x1=\"24\" y1=\"34\" x2=\"144\" y2=\"34\" />\n",
       "  <line x1=\"24\" y1=\"54\" x2=\"144\" y2=\"54\" />\n",
       "  <line x1=\"24\" y1=\"73\" x2=\"144\" y2=\"73\" />\n",
       "  <line x1=\"24\" y1=\"93\" x2=\"144\" y2=\"93\" />\n",
       "  <line x1=\"24\" y1=\"112\" x2=\"144\" y2=\"112\" />\n",
       "  <line x1=\"24\" y1=\"124\" x2=\"144\" y2=\"124\" style=\"stroke-width:2\" />\n",
       "\n",
       "  <!-- Vertical lines -->\n",
       "  <line x1=\"24\" y1=\"14\" x2=\"24\" y2=\"124\" style=\"stroke-width:2\" />\n",
       "  <line x1=\"44\" y1=\"14\" x2=\"44\" y2=\"124\" />\n",
       "  <line x1=\"64\" y1=\"14\" x2=\"64\" y2=\"124\" />\n",
       "  <line x1=\"83\" y1=\"14\" x2=\"83\" y2=\"124\" />\n",
       "  <line x1=\"103\" y1=\"14\" x2=\"103\" y2=\"124\" />\n",
       "  <line x1=\"122\" y1=\"14\" x2=\"122\" y2=\"124\" />\n",
       "  <line x1=\"142\" y1=\"14\" x2=\"142\" y2=\"124\" />\n",
       "  <line x1=\"144\" y1=\"14\" x2=\"144\" y2=\"124\" style=\"stroke-width:2\" />\n",
       "\n",
       "  <!-- Colored Rectangle -->\n",
       "  <polygon points=\"24.9485979497544,14.948597949754403 144.9485979497544,14.948597949754403 144.9485979497544,124.94859794975442 24.9485979497544,124.94859794975442\" style=\"fill:#ECB172A0;stroke-width:0\"/>\n",
       "\n",
       "  <!-- Text -->\n",
       "  <text x=\"84.948598\" y=\"144.948598\" font-size=\"1.0rem\" font-weight=\"100\" text-anchor=\"middle\" >69120</text>\n",
       "  <text x=\"164.948598\" y=\"69.948598\" font-size=\"1.0rem\" font-weight=\"100\" text-anchor=\"middle\" transform=\"rotate(-90,164.948598,69.948598)\">63360</text>\n",
       "  <text x=\"7.474299\" y=\"137.474299\" font-size=\"1.0rem\" font-weight=\"100\" text-anchor=\"middle\" transform=\"rotate(45,7.474299,137.474299)\">6</text>\n",
       "</svg>\n",
       "        </td>\n",
       "    </tr>\n",
       "</table>"
      ],
      "text/plain": [
       "dask.array<stack, shape=(6, 63360, 69120), dtype=uint8, chunksize=(1, 11264, 11264), chunktype=numpy.ndarray>"
      ]
     },
     "execution_count": 16,
     "metadata": {},
     "output_type": "execute_result"
    }
   ],
   "source": [
    "# Merge 2D daskarrays to a single 3D array\n",
    "img_stack = da.stack(das)  # shape is (channels, y, x)\n",
    "img_stack"
   ]
  },
  {
   "cell_type": "code",
   "execution_count": 17,
   "metadata": {},
   "outputs": [
    {
     "name": "stdout",
     "output_type": "stream",
     "text": [
      "<class 'dask.array.core.Array'>\n",
      "uint8\n",
      "(6, 63360, 69120)\n"
     ]
    }
   ],
   "source": [
    "print(type(img_stack))\n",
    "print(img_stack.dtype)\n",
    "print(img_stack.shape)"
   ]
  },
  {
   "cell_type": "markdown",
   "metadata": {},
   "source": [
    "## Save as OME TIFF"
   ]
  },
  {
   "cell_type": "code",
   "execution_count": 18,
   "metadata": {},
   "outputs": [],
   "source": [
    "from skimage.transform import downscale_local_mean\n",
    "from typing import List, Optional, Tuple, Iterator\n",
    "import numpy as np\n",
    "import tifffile\n",
    "import math"
   ]
  },
  {
   "cell_type": "code",
   "execution_count": 19,
   "metadata": {},
   "outputs": [],
   "source": [
    "def write_pyramidal_ome_tiff(img_stack: da.Array,                # dask array image stack of shape (channels, y, x)\n",
    "                             pyramid_filename: str,\n",
    "                             channel_names: Optional[List[str]],\n",
    "                             pixel_size_um: Optional[Tuple[float, float]],        # pixel size in microns, or None\n",
    "                             compression: Optional[str],         # 'zlib' or None\n",
    "                             tile_size: int,                     # tile size (in pixels) in output OME TIFF file\n",
    "                             max_levels: int,\n",
    "                             downsample_method: str) -> None:    # downsample method = 'box' (better quality, slower) or 'nearest neighbor' (faster, poorer quality)\n",
    "\n",
    "    num_pyramid_levels: int = max_levels  # CHECKME: do we need to clip this value in case we would end up with <= 1 pixel images in the pyramid?\n",
    "\n",
    "    ome_metadata = _make_ome_metadata(img_stack, channel_names, pixel_size_um)\n",
    "\n",
    "    tile_sizes = (tile_size, tile_size)\n",
    "\n",
    "    options = dict(tile=tile_sizes,\n",
    "                   photometric='minisblack',\n",
    "                   compression=compression,\n",
    "                   metadata=ome_metadata,\n",
    "                   software=_creator())\n",
    "    \n",
    "    num_channels, image_height, image_width = img_stack.shape\n",
    "\n",
    "    # Create output folder if it does not exist yet.\n",
    "    Path(pyramid_filename).parent.mkdir(parents=True, exist_ok=True)\n",
    "\n",
    "    print(f'Writing pyramidal OME TIFF file {pyramid_filename} (compression: {options[\"compression\"]})')\n",
    "    with tifffile.TiffWriter(pyramid_filename, ome=True, bigtiff=True) as tif:\n",
    "        \n",
    "        # Write full resolution image\n",
    "        print(f'Writing level 0: {image_width} x {image_height} px')\n",
    "        downsample_factor = 1\n",
    "        tif.write(data=_tiles_generator(img_stack, tile_sizes, downsample_factor, downsample_method),\n",
    "                  shape=(num_channels, image_height, image_width, 1),\n",
    "                  dtype=img_stack.dtype,\n",
    "                  subifds=num_pyramid_levels-1,\n",
    "                  **options)\n",
    "\n",
    "        # Save downsampled pyramid images to the subifds\n",
    "        for level in range(1, num_pyramid_levels):\n",
    "            downsampled_data_shape = math.ceil(image_height / (2**level)), math.ceil(image_width / (2**level))\n",
    "            print(f'Writing level {level}: {downsampled_data_shape[1]} x {downsampled_data_shape[0]} px')\n",
    "            downsample_factor = 2**level\n",
    "            tif.write(data=_tiles_generator(img_stack, tile_sizes, downsample_factor, downsample_method), \n",
    "                      shape=(num_channels, downsampled_data_shape[0], downsampled_data_shape[1], 1),\n",
    "                      dtype=img_stack.dtype,\n",
    "                      subfiletype=1,\n",
    "                      **options)\n",
    "\n",
    "\n",
    "def _tiles_generator(img_stack: da.Array,\n",
    "                     tile_sizes: Tuple[int, int],\n",
    "                     downsample_factor: int,\n",
    "                     downsample_method: str) -> Iterator[np.ndarray]:\n",
    "    # See also https://forum.image.sc/t/tifffile-ome-tiff-generation-is-taking-too-much-ram/41865/16\n",
    "    # and https://github.com/labsyspharm/ashlar/blob/5bf5b8710f456e68e33ff232708cda0b1c904a33/ashlar/reg.py\n",
    "    tile_height, tile_width = tile_sizes\n",
    "    num_channels = img_stack.shape[0]\n",
    "    for c in range(num_channels):\n",
    "        print(f'  channel {c+1}/{num_channels}')\n",
    "\n",
    "        # Get a full numpy array image from the dask array.\n",
    "        # This loses dask chunk advantages, but avoids tiling artefacts in our naive downsampling implementation.\n",
    "        # It also makes our retiling for OME-TIFF trivial.\n",
    "        # IMPROVEME\n",
    "        image = img_stack[c].compute()  \n",
    "\n",
    "        # Downsample\n",
    "        image = _downsample_image(image, downsample_factor, downsample_method)\n",
    "\n",
    "        # Generate tiles\n",
    "        image_height, image_width = image.shape\n",
    "        for y in range(0, image_height, tile_height):\n",
    "            for x in range(0, image_width, tile_width):\n",
    "                yield image[y:y+tile_height, x:x+tile_width].copy()\n",
    "\n",
    "\n",
    "def _downsample_image(img: np.ndarray,\n",
    "                      downsample_factor: int,\n",
    "                      downsample_method: str) -> np.ndarray:\n",
    "\n",
    "    if downsample_factor != 1:\n",
    "        if downsample_method == 'box':\n",
    "            # Box filter. This yields dramatically better quality than nearest neighbor but is slower.\n",
    "            img = downscale_local_mean(img, (downsample_factor, downsample_factor)).astype(img.dtype)\n",
    "        else:\n",
    "            # Nearest neighbor downsampling. Fast but poor quality.\n",
    "            img = img[::downsample_factor, ::downsample_factor]\n",
    "\n",
    "    return img\n",
    "\n",
    "\n",
    "def _make_ome_metadata(img_stack: da.Array,\n",
    "                       channel_names: Optional[List[str]],\n",
    "                       pixel_size_um: Optional[Tuple[float, float]]):\n",
    "\n",
    "    # Collect OME metadata\n",
    "    ome_metadata = {}\n",
    "    ome_metadata['Creator'] = _creator()\n",
    "    if pixel_size_um:\n",
    "        pixel_size_y_um, pixel_size_x_um = pixel_size_um\n",
    "        print(f'Setting pixel size in pyramidal file to {pixel_size_um} micrometer')\n",
    "        ome_metadata['PhysicalSizeX'] = str(pixel_size_x_um)\n",
    "        ome_metadata['PhysicalSizeXUnit'] = 'µm'\n",
    "        ome_metadata['PhysicalSizeY'] = str(pixel_size_y_um)\n",
    "        ome_metadata['PhysicalSizeYUnit'] = 'µm'\n",
    "\n",
    "    if channel_names:\n",
    "        print(f'Got channel names: {channel_names}')\n",
    "        assert len(channel_names) == img_stack.shape[0]\n",
    "        ome_metadata['Channel'] = {'Name': channel_names}\n",
    "\n",
    "    return ome_metadata    \n",
    "\n",
    "\n",
    "def _creator() -> str:\n",
    "    return f'zarr-ometiff'\n"
   ]
  },
  {
   "cell_type": "code",
   "execution_count": 20,
   "metadata": {},
   "outputs": [
    {
     "name": "stdout",
     "output_type": "stream",
     "text": [
      "Setting pixel size in pyramidal file to (0.24951528763620068, 0.24951528763620068) micrometer\n",
      "Got channel names: ['DAPI', 'Opal_520', 'Opal_570', 'Opal_690', 'Opal_780', 'Sample_AF']\n",
      "Writing pyramidal OME TIFF file D:\\Frank\\BigWarp-Troubleshooting\\junk.ome.tiff (compression: zlib)\n",
      "Writing level 0: 69120 x 63360 px\n",
      "  channel 1/6\n",
      "  channel 2/6\n",
      "  channel 3/6\n",
      "  channel 4/6\n",
      "  channel 5/6\n",
      "  channel 6/6\n",
      "Writing level 1: 34560 x 31680 px\n",
      "  channel 1/6\n",
      "  channel 2/6\n",
      "  channel 3/6\n",
      "  channel 4/6\n",
      "  channel 5/6\n",
      "  channel 6/6\n",
      "Writing level 2: 17280 x 15840 px\n",
      "  channel 1/6\n",
      "  channel 2/6\n",
      "  channel 3/6\n",
      "  channel 4/6\n",
      "  channel 5/6\n",
      "  channel 6/6\n",
      "Writing level 3: 8640 x 7920 px\n",
      "  channel 1/6\n",
      "  channel 2/6\n",
      "  channel 3/6\n",
      "  channel 4/6\n",
      "  channel 5/6\n",
      "  channel 6/6\n",
      "Writing level 4: 4320 x 3960 px\n",
      "  channel 1/6\n",
      "  channel 2/6\n",
      "  channel 3/6\n",
      "  channel 4/6\n",
      "  channel 5/6\n",
      "  channel 6/6\n"
     ]
    }
   ],
   "source": [
    "pyramid_filename = r'D:\\Frank\\BigWarp-Troubleshooting\\junk.ome.tiff'\n",
    "\n",
    "tile_size: int = 1024\n",
    "max_levels: int = 5         # number of image pyramid levels\n",
    "downsample_method = 'box'\n",
    "compression = 'zlib'\n",
    "\n",
    "write_pyramidal_ome_tiff(img_stack,\n",
    "                         pyramid_filename,\n",
    "                         channel_names,\n",
    "                         pixel_size_um,\n",
    "                         compression,\n",
    "                         tile_size,\n",
    "                         max_levels,\n",
    "                         downsample_method)"
   ]
  },
  {
   "cell_type": "code",
   "execution_count": null,
   "metadata": {},
   "outputs": [],
   "source": []
  }
 ],
 "metadata": {
  "kernelspec": {
   "display_name": "napari-sparrow",
   "language": "python",
   "name": "python3"
  },
  "language_info": {
   "codemirror_mode": {
    "name": "ipython",
    "version": 3
   },
   "file_extension": ".py",
   "mimetype": "text/x-python",
   "name": "python",
   "nbconvert_exporter": "python",
   "pygments_lexer": "ipython3",
   "version": "3.11.7"
  }
 },
 "nbformat": 4,
 "nbformat_minor": 2
}
